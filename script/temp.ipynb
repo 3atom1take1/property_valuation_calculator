{
 "cells": [
  {
   "cell_type": "code",
   "execution_count": 4,
   "id": "96c1c921-e74a-4e9c-b6d3-046ef341cd25",
   "metadata": {},
   "outputs": [
    {
     "name": "stdout",
     "output_type": "stream",
     "text": [
      "../scraping_raw/suumo_baibai*.csv\n",
      "20220213\n"
     ]
    }
   ],
   "source": [
    "#!/usr/bin/env python\n",
    "# cofing: utf-8\n",
    "\n",
    "import pandas as pd\n",
    "import re\n",
    "import datetime\n",
    "import numpy as np\n",
    "import matplotlib.pyplot as plt\n",
    "import glob\n",
    "import os\n",
    "\n",
    "\n",
    "work_dir = os.getcwd()\n",
    "print('../scraping_raw/suumo_baibai*.csv')\n",
    "files = glob.glob('../scraping_raw/suumo_baibai*.csv')\n",
    "input_file = files[0]\n",
    "\n",
    "train_data_date = input_file[-12:-4]\n",
    "print(train_data_date)\n",
    "# job_name = '{from_date}_{to_date}'.format(\n",
    "#                                     from_date=from_date\n",
    "#                                     ,to_date=to_date\n",
    "#                                     ,ver=ver)\n",
    "# log_dir = main_dir + '/log/{client_carrier}_{ver}_train_{now_time}/'.format(,now_time=now_time)\n",
    "\n",
    "# os.makedirs(log_dir,exist_ok=True)\n",
    "\n",
    "# log_file = log_dir + '/{}.txt'.format(now_time)\n",
    "\n",
    "# f = open(log_file,'w',encoding='UTF-8')\n",
    "# f.close()\n",
    "\n",
    "# def write_log(log_file,text):\n",
    "#     f = open(log_file,'a',encoding='UTF-8')\n",
    "#     f.write(text)\n",
    "#     f.close()\n",
    "#     print(text)\n",
    "\n",
    "\n",
    "\n",
    "# # trainデータの読み込み\n",
    "# df_raw = pd.read_csv(input_file)\n",
    "\n",
    "\n",
    "\n",
    "\n",
    "# # 複数戸のデータを削除\n",
    "# df_raw = df_raw[~df_raw['price'].str.contains('～')]\n",
    "# # print(df_raw.shape)\n",
    "# # print(df_raw.info())\n",
    "# # print(df_raw.describe())\n",
    "\n",
    "\n",
    "# # if __name__ == '__main__':\n",
    "# #     main()\n"
   ]
  },
  {
   "cell_type": "code",
   "execution_count": null,
   "id": "b6588435-7a49-4f78-b770-5518c7704167",
   "metadata": {},
   "outputs": [],
   "source": []
  }
 ],
 "metadata": {
  "kernelspec": {
   "display_name": "Python 3 (ipykernel)",
   "language": "python",
   "name": "python3"
  },
  "language_info": {
   "codemirror_mode": {
    "name": "ipython",
    "version": 3
   },
   "file_extension": ".py",
   "mimetype": "text/x-python",
   "name": "python",
   "nbconvert_exporter": "python",
   "pygments_lexer": "ipython3",
   "version": "3.8.9"
  }
 },
 "nbformat": 4,
 "nbformat_minor": 5
}
